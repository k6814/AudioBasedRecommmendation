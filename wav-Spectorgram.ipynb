{
 "cells": [
  {
   "cell_type": "code",
   "execution_count": 7,
   "metadata": {},
   "outputs": [
    {
     "name": "stderr",
     "output_type": "stream",
     "text": [
      "/Users/Sachit/Applications/anaconda/lib/python3.6/site-packages/ipykernel_launcher.py:21: DeprecationWarning: Numeric-style type codes are deprecated and will result in an error in the future.\n"
     ]
    }
   ],
   "source": [
    "\"\"\"Generate a Spectrogram image for a given WAV audio sample.\n",
    "\n",
    "A spectrogram, or sonogram, is a visual representation of the spectrum\n",
    "of frequencies in a sound.  Horizontal axis represents time, Vertical axis\n",
    "represents frequency, and color represents amplitude.\n",
    "\"\"\"\n",
    "import os\n",
    "import wave\n",
    "\n",
    "import pylab\n",
    "def graph_spectrogram(wav_file):\n",
    "    sound_info, frame_rate = get_wav_info(wav_file)\n",
    "    pylab.figure(num=None, figsize=(19, 12))\n",
    "    pylab.subplot(111)\n",
    "    pylab.title('spectrogram of %r' % wav_file)\n",
    "    pylab.specgram(sound_info, Fs=frame_rate)\n",
    "    pylab.savefig(wav_file.rstrip('.wav') + '.png', bbox = 'tight')\n",
    "def get_wav_info(wav_file):\n",
    "    wav = wave.open(wav_file, 'r')\n",
    "    frames = wav.readframes(-1)\n",
    "    sound_info = pylab.fromstring(frames, 'Int16')\n",
    "    frame_rate = wav.getframerate()\n",
    "    wav.close()\n",
    "    return sound_info, frame_rate\n",
    "if __name__ == '__main__':\n",
    "    wav_file = 'Alvida  copy.wav'\n",
    "    graph_spectrogram(wav_file)"
   ]
  },
  {
   "cell_type": "code",
   "execution_count": null,
   "metadata": {
    "collapsed": true
   },
   "outputs": [],
   "source": []
  }
 ],
 "metadata": {
  "kernelspec": {
   "display_name": "Python 3",
   "language": "python",
   "name": "python3"
  },
  "language_info": {
   "codemirror_mode": {
    "name": "ipython",
    "version": 3
   },
   "file_extension": ".py",
   "mimetype": "text/x-python",
   "name": "python",
   "nbconvert_exporter": "python",
   "pygments_lexer": "ipython3",
   "version": "3.6.1"
  }
 },
 "nbformat": 4,
 "nbformat_minor": 2
}
