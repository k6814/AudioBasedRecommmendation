{
 "cells": [
  {
   "cell_type": "code",
   "execution_count": 1,
   "metadata": {
    "collapsed": true
   },
   "outputs": [],
   "source": [
    "import pandas as pd"
   ]
  },
  {
   "cell_type": "code",
   "execution_count": 3,
   "metadata": {},
   "outputs": [],
   "source": [
    "t=pd.read_csv(\"o.csv\")"
   ]
  },
  {
   "cell_type": "code",
   "execution_count": 4,
   "metadata": {},
   "outputs": [
    {
     "data": {
      "text/html": [
       "<div>\n",
       "<style>\n",
       "    .dataframe thead tr:only-child th {\n",
       "        text-align: right;\n",
       "    }\n",
       "\n",
       "    .dataframe thead th {\n",
       "        text-align: left;\n",
       "    }\n",
       "\n",
       "    .dataframe tbody tr th {\n",
       "        vertical-align: top;\n",
       "    }\n",
       "</style>\n",
       "<table border=\"1\" class=\"dataframe\">\n",
       "  <thead>\n",
       "    <tr style=\"text-align: right;\">\n",
       "      <th></th>\n",
       "      <th>catalog_number</th>\n",
       "      <th>title</th>\n",
       "      <th>release_date</th>\n",
       "      <th>artist</th>\n",
       "      <th>label</th>\n",
       "      <th>tracks</th>\n",
       "      <th>genre</th>\n",
       "    </tr>\n",
       "  </thead>\n",
       "  <tbody>\n",
       "    <tr>\n",
       "      <th>0</th>\n",
       "      <td>SB 215-0</td>\n",
       "      <td>Tell Me</td>\n",
       "      <td>10 Sep 08</td>\n",
       "      <td>CLEAR VIEW feat JESSICA</td>\n",
       "      <td>Songbird Holland</td>\n",
       "      <td>[(u'Tell Me - (6:43)', u'http://www.junodownlo...</td>\n",
       "      <td>Progressive House</td>\n",
       "    </tr>\n",
       "    <tr>\n",
       "      <th>1</th>\n",
       "      <td>AED 0027DL</td>\n",
       "      <td>Bones/Broken Glass</td>\n",
       "      <td>05 Feb 16</td>\n",
       "      <td>_LINDEN</td>\n",
       "      <td>AED</td>\n",
       "      <td>[(u'Bones - (3:17)', u'http://www.junodownload...</td>\n",
       "      <td>Rock</td>\n",
       "    </tr>\n",
       "    <tr>\n",
       "      <th>2</th>\n",
       "      <td>NWR 005</td>\n",
       "      <td>Perception</td>\n",
       "      <td>28 Aug 17</td>\n",
       "      <td>_MAD</td>\n",
       "      <td>No Way</td>\n",
       "      <td>[(u'Perception - (7:29)', u'http://www.junodow...</td>\n",
       "      <td>Minimal/Tech House</td>\n",
       "    </tr>\n",
       "    <tr>\n",
       "      <th>3</th>\n",
       "      <td>AMREC 008</td>\n",
       "      <td>Phenoxy</td>\n",
       "      <td>23 Jan 17</td>\n",
       "      <td>_NYQUIST</td>\n",
       "      <td>Ambidextrous</td>\n",
       "      <td>[(u'The Golden Sea - (5:16)', u'http://www.jun...</td>\n",
       "      <td>Techno</td>\n",
       "    </tr>\n",
       "    <tr>\n",
       "      <th>4</th>\n",
       "      <td>EKT 000096</td>\n",
       "      <td>Envi</td>\n",
       "      <td>31 Jul 17</td>\n",
       "      <td>_UND</td>\n",
       "      <td>Elektrotribe</td>\n",
       "      <td>[(u'Envi - (6:07)', u'http://www.junodownload....</td>\n",
       "      <td>Techno</td>\n",
       "    </tr>\n",
       "  </tbody>\n",
       "</table>\n",
       "</div>"
      ],
      "text/plain": [
       "  catalog_number               title release_date                   artist  \\\n",
       "0       SB 215-0             Tell Me    10 Sep 08  CLEAR VIEW feat JESSICA   \n",
       "1     AED 0027DL  Bones/Broken Glass    05 Feb 16                  _LINDEN   \n",
       "2        NWR 005          Perception    28 Aug 17                     _MAD   \n",
       "3      AMREC 008             Phenoxy    23 Jan 17                 _NYQUIST   \n",
       "4     EKT 000096                Envi    31 Jul 17                     _UND   \n",
       "\n",
       "              label                                             tracks  \\\n",
       "0  Songbird Holland  [(u'Tell Me - (6:43)', u'http://www.junodownlo...   \n",
       "1               AED  [(u'Bones - (3:17)', u'http://www.junodownload...   \n",
       "2            No Way  [(u'Perception - (7:29)', u'http://www.junodow...   \n",
       "3      Ambidextrous  [(u'The Golden Sea - (5:16)', u'http://www.jun...   \n",
       "4      Elektrotribe  [(u'Envi - (6:07)', u'http://www.junodownload....   \n",
       "\n",
       "                genre  \n",
       "0   Progressive House  \n",
       "1                Rock  \n",
       "2  Minimal/Tech House  \n",
       "3              Techno  \n",
       "4              Techno  "
      ]
     },
     "execution_count": 4,
     "metadata": {},
     "output_type": "execute_result"
    }
   ],
   "source": [
    "t.head()"
   ]
  },
  {
   "cell_type": "code",
   "execution_count": 40,
   "metadata": {
    "collapsed": true
   },
   "outputs": [],
   "source": [
    "import ast"
   ]
  },
  {
   "cell_type": "code",
   "execution_count": null,
   "metadata": {
    "collapsed": true
   },
   "outputs": [],
   "source": [
    "re.findall(\"http[s]?:\\/\\/[A-Za-z./0-9-]+.mp3\", )"
   ]
  },
  {
   "cell_type": "code",
   "execution_count": 67,
   "metadata": {},
   "outputs": [],
   "source": [
    "import requests\n",
    "def download(all_songs):\n",
    "    for i in all_songs:\n",
    "        url = re.findall(\"http[s]?:\\/\\/[A-Za-z./0-9-]+.mp3\", i)[0]\n",
    "        name = ast.literal_eval(i)[0][0].split(' - (')[0]\n",
    "        doc = requests.get(url)\n",
    "        with open('songs/'+name + '.mp3', 'wb') as f:\n",
    "            f.write(doc.content)\n",
    "        "
   ]
  },
  {
   "cell_type": "code",
   "execution_count": 69,
   "metadata": {},
   "outputs": [],
   "source": [
    "download(t.head().tracks)"
   ]
  },
  {
   "cell_type": "code",
   "execution_count": null,
   "metadata": {
    "collapsed": true
   },
   "outputs": [],
   "source": []
  }
 ],
 "metadata": {
  "kernelspec": {
   "display_name": "Python 3",
   "language": "python",
   "name": "python3"
  },
  "language_info": {
   "codemirror_mode": {
    "name": "ipython",
    "version": 3
   },
   "file_extension": ".py",
   "mimetype": "text/x-python",
   "name": "python",
   "nbconvert_exporter": "python",
   "pygments_lexer": "ipython3",
   "version": "3.6.1"
  }
 },
 "nbformat": 4,
 "nbformat_minor": 2
}
